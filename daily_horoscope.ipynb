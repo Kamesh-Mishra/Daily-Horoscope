{
 "cells": [
  {
   "cell_type": "code",
   "execution_count": 1,
   "id": "a17f7dd6",
   "metadata": {},
   "outputs": [],
   "source": [
    "#import libraries\n",
    "import requests\n",
    "from bs4 import BeautifulSoup"
   ]
  },
  {
   "cell_type": "code",
   "execution_count": 2,
   "id": "f0347d5e",
   "metadata": {},
   "outputs": [],
   "source": [
    "\n",
    "#get the data from url\n",
    "def horoscope(zodiac_sign, day):\n",
    "    url = (\"https://www.horoscope.com/us/horoscopes/general/horoscope-general-daily-{}.aspx?sign={}\".format(day, zodiac_sign))\n",
    "    soup = BeautifulSoup(requests.get(url).content, \"html.parser\")\n",
    "    return soup.find(\"div\", class_=\"main-horoscope\").p.text"
   ]
  },
  {
   "cell_type": "code",
   "execution_count": 3,
   "id": "2392677c",
   "metadata": {},
   "outputs": [
    {
     "name": "stdout",
     "output_type": "stream",
     "text": [
      "Daily Horoscope: \n",
      "\n",
      "enter your Zodiac sign number:\n",
      " 1. Aries\n",
      " 2. Taurus\n",
      " 3. Gemini\n",
      " 4. Cancer\n",
      " 5. Leo\n",
      " 6. Virgo\n",
      " 7. Libra\n",
      " 8. Scorpio\n",
      " 9. Sagittarius\n",
      " 10. Capricorn\n",
      " 11. Aquarius\n",
      " 12. Pisces\n",
      "Input number> 8\n",
      "\n",
      "choose day:\n",
      " yesterday\n",
      " today\n",
      " tomorrow\n",
      "enter the day> today\n"
     ]
    }
   ],
   "source": [
    "print(\"Daily Horoscope: \\n\")\n",
    "print(\"enter your Zodiac sign number:\\n\",\n",
    "        \"1. Aries\\n\",\n",
    "        \"2. Taurus\\n\",\n",
    "        \"3. Gemini\\n\",\n",
    "        \"4. Cancer\\n\",\n",
    "        \"5. Leo\\n\",\n",
    "        \"6. Virgo\\n\",\n",
    "        \"7. Libra\\n\",\n",
    "        \"8. Scorpio\\n\",\n",
    "        \"9. Sagittarius\\n\",\n",
    "        \"10. Capricorn\\n\",\n",
    "        \"11. Aquarius\\n\",\n",
    "        \"12. Pisces\"\n",
    "    )\n",
    "\n",
    "zodiac_sign = int(input(\"Input number> \"))\n",
    "print(\"\\nchoose day:\\n\", \"yesterday\\n\", \"today\\n\", \"tomorrow\")\n",
    "day = input(\"enter the day> \")\n",
    "\n",
    "horoscope_text = horoscope(zodiac_sign, day)"
   ]
  },
  {
   "cell_type": "code",
   "execution_count": 4,
   "id": "53390339",
   "metadata": {},
   "outputs": [
    {
     "name": "stdout",
     "output_type": "stream",
     "text": [
      "\n",
      " Aug 12, 2021 - You should enjoy a good mood today, so head toward something you believe in, Scorpio. There will most certainly be a magical element to this day that you should not only believe in but also encourage. Miracles are possible if you believe. Let your fanciful mind realize something out of thin air. Lean toward the new and unconventional. The times are changing rapidly.\n"
     ]
    }
   ],
   "source": [
    "#print horoscope\n",
    "print(\"\\n\",horoscope_text)"
   ]
  }
 ],
 "metadata": {
  "kernelspec": {
   "display_name": "Python 3",
   "language": "python",
   "name": "python3"
  },
  "language_info": {
   "codemirror_mode": {
    "name": "ipython",
    "version": 3
   },
   "file_extension": ".py",
   "mimetype": "text/x-python",
   "name": "python",
   "nbconvert_exporter": "python",
   "pygments_lexer": "ipython3",
   "version": "3.8.8"
  }
 },
 "nbformat": 4,
 "nbformat_minor": 5
}
